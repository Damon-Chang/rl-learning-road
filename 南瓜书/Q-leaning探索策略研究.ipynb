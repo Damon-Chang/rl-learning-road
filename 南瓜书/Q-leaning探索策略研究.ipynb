{
 "cells": [
  {
   "cell_type": "markdown",
   "metadata": {},
   "source": [
    "# Q learning with different exploration strategies\n",
    "\n",
    "目的是学习各种不同探索策略对Q leanrning的影响\n",
    "\n",
    "需要torch，由于我的电脑没有cuda，所以这里只负责存放代码，主要是在colab中进行编写"
   ]
  },
  {
   "cell_type": "markdown",
   "metadata": {},
   "source": [
    "## 导入需要的packages"
   ]
  },
  {
   "cell_type": "code",
   "execution_count": null,
   "metadata": {},
   "outputs": [],
   "source": [
    "import numpy as np"
   ]
  }
 ],
 "metadata": {
  "kernelspec": {
   "display_name": "pytorch",
   "language": "python",
   "name": "python3"
  },
  "language_info": {
   "name": "python",
   "version": "3.9.15"
  }
 },
 "nbformat": 4,
 "nbformat_minor": 2
}
